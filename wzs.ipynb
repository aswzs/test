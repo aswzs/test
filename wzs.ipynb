{
 "cells": [
  {
   "cell_type": "markdown",
   "metadata": {},
   "source": [
    "<font color=\"orange\" size=25> <br>Lesson 7 <br><br></font>\n",
    "<font color=\"black\" size=6>1. Fire activity monitoring and prediction<br><br></font>\n",
    "<font color=\"black\" size=6>2. How to measure the tree height? <br><br>\n",
    "</font>"
   ]
  },
  {
   "cell_type": "markdown",
   "metadata": {},
   "source": [
    "<font color=\"orange\" size=6> 1. Fire activity monitoring and prediction<br><br></font>\n",
    "<font color=\"orange\" size=5>**Load python libraries**<br><br></font>"
   ]
  },
  {
   "cell_type": "code",
   "execution_count": null,
   "metadata": {},
   "outputs": [],
   "source": [
    "import os \n",
    "import numpy.ma as ma \n",
    "import pandas as pd \n",
    "import numpy as np \n",
    "import matplotlib.pyplot as plt \n",
    "from matplotlib import patches as mpatches, colors \n",
    "from matplotlib.colors import ListedColormap \n",
    "import matplotlib as mpl \n",
    "import seaborn as sns \n",
    "import geopandas as gpd \n",
    "from shapely.geometry import mapping \n",
    "import rasterio as rio \n",
    "from rasterio.plot import show, plotting_extent\n",
    "\n",
    "sns.set_theme(font_scale=1.5) \n",
    "sns.set_style(\"white\") \n",
    "\n",
    "os.chdir(r'D:\\M\\地理大数据与云计算\\实验数据\\lesson8\\Lesson8_data') \n"
   ]
  },
  {
   "cell_type": "markdown",
   "metadata": {},
   "source": [
    "<font color=\"orange\" size=5>**Calculate dNBR using Landsat data**<br><br></font>\n",
    "<font color=\"black\" size=4>**Open Landsat pre-fire and post-fire data**</font>"
   ]
  },
  {
   "cell_type": "code",
   "execution_count": null,
   "metadata": {},
   "outputs": [],
   "source": [
    "with rio.open( 'cold_springs_fire/landsat_pre_fire.tif' ) as landsat_pre_fire: \n",
    "            landsat_pre_fire_data = landsat_pre_fire.read(masked=True) \n",
    "            landsat_pre_fire_meta = landsat_pre_fire.profile\n",
    "            landsat_pre_fire_extent = plotting_extent(landsat_pre_fire) \n",
    "with rio.open( 'cold_springs_fire/landsat_post_fire.tif' ) as landsat_post_fire: \n",
    "            landsat_post_fire_data = landsat_post_fire.read(masked=True) \n",
    "            landsat_post_fire_meta = landsat_post_fire.profile\n",
    "            landsat_post_fire_extent = plotting_extent(landsat_post_fire) \n",
    "# Open fire boundary layer and reproject it to match the Landsat data \n",
    "fire_boundary_path = \"cold_springs_fire/co_cold_springs_20160711_2200_dd83.shp\" \n",
    "fire_boundary = gpd.read_file(fire_boundary_path) \n",
    "# If the CRS' are not the same be sure to reproject \n",
    "fire_bound_utmz13 = fire_boundary.to_crs(landsat_pre_fire_meta['crs']) \n"
   ]
  },
  {
   "cell_type": "markdown",
   "metadata": {},
   "source": [
    "<font color=\"black\" size=4>**Calculate and plot pre-fire NBR**</font>"
   ]
  },
  {
   "cell_type": "code",
   "execution_count": null,
   "metadata": {},
   "outputs": [],
   "source": [
    "landsat_pre_fire_nbr = (landsat_pre_fire_data[4]-landsat_pre_fire_data[6]) / (landsat_pre_fire_data[4]+landsat_pre_fire_data[6]) \n",
    "\n",
    "fig, ax = plt.subplots(figsize=(12, 6)) \n",
    "nbr = ax.imshow(landsat_pre_fire_nbr, cmap='PiYG', vmin=-1, vmax=1, extent=landsat_pre_fire_extent) \n",
    "fire_bound_utmz13.plot(ax=ax, color='None',edgecolor='black', linewidth=2) \n",
    "fig.colorbar(nbr) \n",
    "ax.set(title=\"Landsat derived Normalized Burn Ratio\\n 23 July 2016 \\n Pre Cold Springs Fire\") \n",
    "ax.set_axis_off() \n",
    "plt.show() "
   ]
  },
  {
   "cell_type": "markdown",
   "metadata": {},
   "source": [
    "<font color=\"black\" size=4>**Calculate and plot post-fire NBR**</font>"
   ]
  },
  {
   "cell_type": "code",
   "execution_count": null,
   "metadata": {},
   "outputs": [],
   "source": [
    "landsat_post_fire_nbr = (landsat_post_fire_data[4]-landsat_post_fire_data[6]) /(landsat_post_fire_data[4]+landsat_post_fire_data[6]) \n",
    "fig, ax = plt.subplots(figsize=(12, 6)) \n",
    "nbr = ax.imshow(landsat_post_fire_nbr, cmap='PiYG',vmin=-1, vmax=1, extent=landsat_post_fire_extent) \n",
    "fire_bound_utmz13.plot(ax=ax, color='None',edgecolor='black', linewidth=2) \n",
    "fig.colorbar(nbr) \n",
    "ax.set(title=\"Landsat derived Normalized Burn Ratio\\n 23 July 2016 \\n Post Cold Springs Fire\") \n",
    "ax.set_axis_off() \n",
    "plt.show() "
   ]
  },
  {
   "cell_type": "markdown",
   "metadata": {},
   "source": [
    "<font color=\"black\" size=4>**Calculate and plot dNBR**</font>"
   ]
  },
  {
   "cell_type": "code",
   "execution_count": null,
   "metadata": {},
   "outputs": [],
   "source": [
    "# Calculate dnbr \n",
    "#请在此处输入代码\n",
    " \n",
    "dnbr_cat_names = [\"Enhanced Regrowth\", \n",
    "                                \"Unburned\", \n",
    "                                \"Low Severity\", \n",
    "\t\t   \"Moderate Severity\",\n",
    "\t\t   \"High Severity\"] \n",
    "nbr_colors = [\"g\", \n",
    "\t       \"yellowgreen\", \n",
    "\t       \"peachpuff\", \n",
    "\t       \"coral\", \n",
    "\t       \"maroon\"] \n",
    "nbr_cmap = ListedColormap(nbr_colors) \n",
    "class_bins = [dnbr_landsat.min(), -0.1, 0.1, 0.27, 0.66, np.inf] \n",
    "dnbr_landsat_class = np.digitize(dnbr_landsat, class_bins) \n"
   ]
  },
  {
   "cell_type": "code",
   "execution_count": null,
   "metadata": {},
   "outputs": [],
   "source": [
    "# Plot the data with a custom legend \n",
    "fig, ax = plt.subplots(figsize=(10, 8)) \n",
    "im = ax.imshow(dnbr_landsat_class, cmap=nbr_cmap, \n",
    "                          extent=landsat_pre_fire_extent) \n",
    "fire_bound_utmz13.plot(ax=ax, color='None', edgecolor='black', linewidth=2) \n",
    "values = np.unique(dnbr_landsat_class.ravel()) \n",
    "nbr_colors = [im.cmap(im.norm(value)) for value in values] \n",
    "patches = [mpatches.Patch(color=nbr_colors[i], \n",
    "                  label=\"{l}\".format(l=dnbr_cat_names[i])) \n",
    "                  for i in range(len(dnbr_cat_names))] \n",
    "plt.legend(handles=patches, bbox_to_anchor=(1.05, 1), \n",
    "                 loc=2, borderaxespad=0., prop={'size': 13}) \n",
    "ax.set_title(\"Landsat dNBR - Cold Spring Fire Site \\n June 1, 2017 - July 24, 2017\", \n",
    "                  fontsize=16)\n",
    "# turn off ticks \n",
    "ax.set_axis_off() \n",
    "plt.show() \n"
   ]
  },
  {
   "cell_type": "markdown",
   "metadata": {},
   "source": [
    "<font color=\"black\" size=4>**Create a colorbar legend**</font>"
   ]
  },
  {
   "cell_type": "code",
   "execution_count": null,
   "metadata": {},
   "outputs": [],
   "source": [
    "# Grab raster unique values (classes) \n",
    "values = np.unique(dnbr_landsat_class).tolist() \n",
    "\n",
    "# Add another index value because for n categories you need n+1 values to create bins \n",
    "values = [0] + values\n",
    "\n",
    "# Make a color map of fixed colors \n",
    "nbr_colors = [\"g\", \"yellowgreen\", \"peachpuff\", \"coral\", \"maroon\"] \n",
    "nbr_cmap = ListedColormap(nbr_colors) \n",
    "\n",
    "# But the goal is the identify the MIDDLE point of each bin to create a centered tick\n",
    "bounds = [((a + b) / 2) for a, b in zip(values[:-1], values[1::1])] + [5.5] \n",
    "\n",
    "# Define normalization \n",
    "norm = colors.BoundaryNorm(bounds, nbr_cmap.N) \n",
    "\n",
    "# Plot the data \n",
    "fig, ax = plt.subplots(figsize=(10, 8)) \n",
    "im = ax.imshow(dnbr_landsat_class, cmap=nbr_cmap, \n",
    "                          extent=landsat_pre_fire_extent, norm=norm) \n",
    "fire_bound_utmz13.plot(ax=ax, color='None', edgecolor='black', linewidth=2) \n",
    "cbar = fig.colorbar(im, boundaries=bounds, fraction=.035) \n",
    "cbar.set_ticks([np.unique(dnbr_landsat_class)]) \n",
    "cbar.set_ticklabels(dnbr_cat_names) \n",
    "ax.set_title(\"Landsat dNBR - Cold Spring Fire Site \\n June 22, 2017 - July 24, 2017\", \n",
    "                   fontsize=16) \n",
    "\n",
    "# turn off ticks \n",
    "ax.set_axis_off() \n",
    "plt.show() "
   ]
  },
  {
   "cell_type": "markdown",
   "metadata": {},
   "source": [
    "<font color=\"black\" size=4>**Calculate total area of burned area**</font>"
   ]
  },
  {
   "cell_type": "code",
   "execution_count": null,
   "metadata": {},
   "outputs": [],
   "source": [
    "# To calculate area, multiply the number of pixels in each bin by image resolution \n",
    "# Result will be in total square meters \n",
    "landsat_pixel = landsat_pre_fire.res[0] * landsat_pre_fire.res[0] \n",
    "burned_landsat = (dnbr_landsat_class[dnbr_landsat_class == 5]).size \n",
    "#请在此处输入代码\n",
    "print(\"Landsat Severe Burn Pixels:\", burned_landsat) "
   ]
  },
  {
   "cell_type": "markdown",
   "metadata": {},
   "source": [
    "<font color=\"orange\" size=6><br>2. How to measure the tree height?<br><br></font>\n",
    "<font color=\"orange\" size=5>**Load python libraries**</font>"
   ]
  },
  {
   "cell_type": "code",
   "execution_count": null,
   "metadata": {},
   "outputs": [],
   "source": [
    "import os \n",
    "from osgeo import gdal\n",
    "import rasterio as rio \n",
    "from rasterio.plot import show, plotting_extent \n",
    "import matplotlib.pyplot as plt \n",
    "import numpy as np \n",
    "\n",
    "plt.ion() \n",
    "from shapely.geometry import Polygon, mapping \n",
    "from rasterio.mask import mask\n",
    "from matplotlib.colors import ListedColormap, BoundaryNorm\n",
    "from matplotlib.patches import Patch\n",
    "import geopandas as gpd \n",
    "import pandas as pd\n",
    "\n",
    "plt.rcParams['figure.figsize'] = (8, 8) \n",
    "# Prettier plotting with seaborn \n",
    "import seaborn as sns\n",
    "sns.set_theme(font_scale=1.5) \n",
    "sns.set_style(\"white\") \n",
    "\n",
    "os.chdir(r'D:\\M\\地理大数据与云计算\\实验数据\\lesson8\\Lesson8_data') "
   ]
  },
  {
   "cell_type": "markdown",
   "metadata": {},
   "source": [
    "<font color=\"orange\" size=5>**Open raster data**<br><br></font>\n",
    "<font color=\"black\" size=4>**Read DTM raster**</font>"
   ]
  },
  {
   "cell_type": "code",
   "execution_count": null,
   "metadata": {},
   "outputs": [],
   "source": [
    "# open raster data \n",
    "lidar_dtm = rio.open(r'D:\\M\\地理大数据与云计算\\实验数据\\lesson8\\Lesson8_data\\tree_height\\SJER_lidarDTM.tif') \n",
    "lidar_dtm_im = lidar_dtm.read(1, masked=True) \n",
    "\n",
    "\n",
    "fig, ax = plt.subplots(figsize = (10,6)) \n",
    "dtm_plot = ax.imshow(lidar_dtm_im,cmap='Greys')\n",
    "fig.colorbar(dtm_plot, ax=ax) \n",
    "ax.set_title(\"Lidar Digital Terrain Model\") \n",
    "ax.set_axis_off() "
   ]
  },
  {
   "cell_type": "markdown",
   "metadata": {},
   "source": [
    "<font color=\"black\" size=4>**Read DTM raster**</font>"
   ]
  },
  {
   "cell_type": "code",
   "execution_count": null,
   "metadata": {},
   "outputs": [],
   "source": [
    "# open raster data \n",
    "lidar_dsm = rio.open(r'D:\\M\\地理大数据与云计算\\实验数据\\lesson8\\Lesson8_data\\tree_height\\SJER_lidarDSM.tif') \n",
    "#请在此处输入代码\n",
    "\n",
    "fig, ax = plt.subplots(figsize = (10,6)) \n",
    "dsm_plot = ax.imshow(lidar_dsm_im,cmap='Greys') \n",
    "fig.colorbar(dsm_plot, ax=ax) \n",
    "ax.set_title(\"Lidar Digital Surface Model\") \n",
    "ax.set_axis_off() \n",
    "\n"
   ]
  },
  {
   "cell_type": "markdown",
   "metadata": {},
   "source": [
    "<font color=\"orange\" size=5>**Calculate CHM data**<br><br></font>\n",
    "<font color=\"black\" size=4>**Before you subtract the two rasters, be sure to check to see if they cover the same area**</font>"
   ]
  },
  {
   "cell_type": "code",
   "execution_count": null,
   "metadata": {},
   "outputs": [],
   "source": [
    "# are the bounds the same? \n",
    "print(\"Is the spatial extent the same?\", lidar_dtm.bounds == lidar_dsm.bounds)\n",
    "# is the resolution the same ?\n",
    "print(\"Is the resolution the same?\", lidar_dtm.res == lidar_dsm.res) \n"
   ]
  },
  {
   "cell_type": "markdown",
   "metadata": {},
   "source": [
    "<font color=\"black\" size=4>**Subtract the two rasters**</font>"
   ]
  },
  {
   "cell_type": "code",
   "execution_count": null,
   "metadata": {},
   "outputs": [],
   "source": [
    "# calculate canopy height model \n",
    "#请在此处输入代码\n",
    "\n",
    "# plot the data \n",
    "fig, ax = plt.subplots(figsize = (10,6)) \n",
    "chm_plot = ax.imshow(lidar_chm_im, cmap='viridis') \n",
    "fig.colorbar(chm_plot, ax=ax) \n",
    "ax.set_title(\"Lidar Canopy Height Model (CHM)\") \n",
    "ax.set_axis_off()"
   ]
  },
  {
   "cell_type": "markdown",
   "metadata": {},
   "source": [
    "<font color=\"black\" size=4>**Distribution of CHM value**</font>"
   ]
  },
  {
   "cell_type": "code",
   "execution_count": null,
   "metadata": {},
   "outputs": [],
   "source": [
    "fig, ax = plt.subplots(figsize = (10,8)) \n",
    "ax.hist(lidar_chm_im.ravel()) \n",
    "ax.set_title(\"Histogram of CHM Values\")"
   ]
  },
  {
   "cell_type": "code",
   "execution_count": null,
   "metadata": {},
   "outputs": [],
   "source": [
    "print('CHM minimum value: ', lidar_chm_im.min()) \n",
    "print('CHM max value: ', lidar_chm_im.max()) "
   ]
  },
  {
   "cell_type": "markdown",
   "metadata": {},
   "source": [
    "<font color=\"black\" size=4>**Update the nodata value**</font>"
   ]
  },
  {
   "cell_type": "code",
   "execution_count": null,
   "metadata": {},
   "outputs": [],
   "source": [
    "# fill the masked pixels with a set no data value\n",
    "nodatavalue = -999.0 \n",
    "lidar_chm_im_fi = np.ma.filled(lidar_chm_im, fill_value=nodatavalue) \n",
    "lidar_chm_im_fi.min(), nodatavalue "
   ]
  },
  {
   "cell_type": "code",
   "execution_count": null,
   "metadata": {},
   "outputs": [],
   "source": [
    "# update the metadata to ensure the nodata value is properly documented \n",
    "# create dictionary copy \n",
    "chm_meta = lidar_dtm.meta.copy() \n",
    "# update the nodata value to be an easier to use number \n",
    "chm_meta.update({'nodata': nodatavalue}) "
   ]
  },
  {
   "cell_type": "markdown",
   "metadata": {},
   "source": [
    "<font color=\"black\" size=4>**Export CHM raster layer**</font>"
   ]
  },
  {
   "cell_type": "code",
   "execution_count": null,
   "metadata": {},
   "outputs": [],
   "source": [
    "out_path = \"tree_height/SJER_lidarCHM.tif\" \n",
    "with rio.open(out_path, 'w', **chm_meta) as outf: \n",
    "       outf.write(lidar_chm_im_fi, 1) \n"
   ]
  },
  {
   "cell_type": "markdown",
   "metadata": {},
   "source": [
    "<font color=\"orange\" size=5>**Classify and plot CHM raster**<br><br></font>\n",
    "<font color=\"black\" size=4>**Map Raster Values to New Values**</font>"
   ]
  },
  {
   "cell_type": "code",
   "execution_count": null,
   "metadata": {},
   "outputs": [],
   "source": [
    "# Reassign all values that are classified as 0 to masked (no data value) \n",
    "# This will prevent pixels that == 0 from being rendered on a map in matplotlib \n",
    "class_bins = [lidar_chm_im.min(), 2, 7, 12, np.inf] \n",
    "#请在此处输入代码\n",
    "lidar_chm_class_ma = np.ma.masked_where(lidar_chm_im_class == 0 , lidar_chm_im_class, copy=True) \n",
    " \n",
    "# Note that you have an extra class in the data (0) \n",
    "print(np.unique(lidar_chm_im_class)) "
   ]
  },
  {
   "cell_type": "code",
   "execution_count": null,
   "metadata": {},
   "outputs": [],
   "source": [
    "# Plot data using nicer colors \n",
    "colors = ['linen', 'lightgreen', 'darkgreen', 'maroon'] \n",
    "cmap = ListedColormap(colors) \n",
    "\n",
    "fig, ax = plt.subplots(figsize=(10, 10)) \n",
    "chm_plot = ax.imshow(lidar_chm_class_ma, \n",
    "                                     cmap=cmap) \n",
    "fig.colorbar(chm_plot, ax=ax) \n",
    "ax.set_title(\"Classified Canopy Height Model\") \n",
    "ax.set_axis_off() \n"
   ]
  },
  {
   "cell_type": "markdown",
   "metadata": {},
   "source": [
    "<font color=\"black\" size=4>**Add Custom Legend**</font>"
   ]
  },
  {
   "cell_type": "code",
   "execution_count": null,
   "metadata": {},
   "outputs": [],
   "source": [
    "# Create a list of labels to use for your legend \n",
    "height_class_labels = [\"Short trees\", \"Less short trees\", \"Medium trees\",\"Tall trees\"] \n",
    "# In this case a patch is a box draw on your legend \n",
    "# Below you create a unique path or box with a unique color - one for each of the labels above \n",
    "legend_patches = [Patch(color=icolor, label=label) \n",
    "                              for icolor, label in zip(colors, height_class_labels)] \n",
    "cmap = ListedColormap(colors) \n",
    "fig, ax = plt.subplots(figsize=(10, 10)) \n",
    "ax.imshow(lidar_chm_class_ma, cmap=cmap) \n",
    "ax.legend(handles=legend_patches, facecolor =\"white\", edgecolor = \"white\", \n",
    "                 bbox_to_anchor = (1.4,1)) # Place legend to the RIGHT of the map \n",
    "ax.set_axis_off()"
   ]
  },
  {
   "cell_type": "markdown",
   "metadata": {},
   "source": [
    "<font color=\"orange\" size=5>**Compare Lidar derived height to in situ measurements**<br><br></font>\n",
    "<font color=\"black\" size=4>**Read CHM raster data**</font>"
   ]
  },
  {
   "cell_type": "code",
   "execution_count": null,
   "metadata": {},
   "outputs": [],
   "source": [
    "# Load & plot the data \n",
    "with rio.open('tree_height/SJER_lidarCHM.tif') as sjer_lidar_chm_src: \n",
    "       SJER_chm_data = sjer_lidar_chm_src.read(1, masked=True) \n",
    "       sjer_chm_meta = sjer_lidar_chm_src.profile\n",
    "       sjer_chm_plt = plotting_extent(sjer_lidar_chm_src)\n",
    "fig, ax = plt.subplots(figsize=(8, 8)) \n",
    "ax.hist(SJER_chm_data.ravel()) \n",
    "ax.set_title('Distribution of Pixel Values \\n Lidar Canopy Height Model', fontsize=18) \n",
    "ax.set_xlabel(\"Lidar Estimated Tree Height (m)\") \n",
    "\n",
    "# Turn off scientific notation \n",
    "ax.ticklabel_format(useOffset=False, style='plain') \n"
   ]
  },
  {
   "cell_type": "code",
   "execution_count": null,
   "metadata": {},
   "outputs": [],
   "source": [
    "# View summary statistics of canopy height model \n",
    "print('Mean:', SJER_chm_data.mean()) \n",
    "print('Max:', SJER_chm_data.max()) \n",
    "print('Min:', SJER_chm_data.min()) \n"
   ]
  },
  {
   "cell_type": "markdown",
   "metadata": {},
   "source": [
    "<font color=\"black\" size=4>**Clean up data - remove 0’s**</font>"
   ]
  },
  {
   "cell_type": "code",
   "execution_count": null,
   "metadata": {},
   "outputs": [],
   "source": [
    "# Set CHM values of 0 to NAN (no data or not a number) \n",
    "SJER_chm_data[SJER_chm_data == 0] = np.nan \n",
    "\n",
    "# Remove nans, flatten the data & plot historgram \n",
    "SJER_chm_data_no_na = SJER_chm_data[~np.isnan(SJER_chm_data)].ravel()\n",
    " \n",
    "fig, ax = plt.subplots(figsize=(10, 10)) \n",
    "ax.hist(SJER_chm_data_no_na) \n",
    "ax.set_title('Distribution of Pixel Values \\n Lidar Canopy Height Model', fontsize=18) \n",
    "ax.set_xlabel(\"Lidar Estimated Tree Height (m)\") \n",
    "ax.set_ylabel(\"Total Pixels\") \n",
    "\n",
    "ax.ticklabel_format(useOffset=False, style='plain') "
   ]
  },
  {
   "cell_type": "markdown",
   "metadata": {},
   "source": [
    "<font color=\"black\" size=4>**Load in situ points and overlay on top of the CHM raster Data**</font>"
   ]
  },
  {
   "cell_type": "code",
   "execution_count": null,
   "metadata": {},
   "outputs": [],
   "source": [
    "sjer_centroids_path = r'D:\\M\\地理大数据与云计算\\实验数据\\lesson8\\Lesson8_data\\tree_height\\SJER_plot_centroids.shp' \n",
    "SJER_plots_points = gpd.read_file(sjer_centroids_path)\n",
    "\n",
    "# Overlay Points on Top Of Your Raster Data\n",
    "fig, ax = plt.subplots(figsize=(15, 15)) \n",
    "ax.imshow(SJER_chm_data, \n",
    "                  # Here you must set the spatial extent or else the data will not line up\n",
    "                  extent=plotting_extent(sjer_lidar_chm_src), cmap='Greys') \n",
    "SJER_plots_points.plot(ax=ax, marker='s', markersize=45, color='purple') \n",
    "ax.set_title(\"San Joachin Field Site \\n Locations Vegetation Plot Locations\", \n",
    "                   fontsize=20) \n",
    "plt.show()\n",
    " \n"
   ]
  },
  {
   "cell_type": "markdown",
   "metadata": {},
   "source": [
    "<font color=\"black\" size=4>**Create a 20 m buffer around each in situ point**</font>"
   ]
  },
  {
   "cell_type": "code",
   "execution_count": null,
   "metadata": {},
   "outputs": [],
   "source": [
    "# Create a buffered polygon layer from your plot location points \n",
    "SJER_plots_poly = SJER_plots_points.copy() \n",
    "\n",
    "# Buffer each point using a 20 meter circle radius and replace the point geometry with the new buffered geometry \n",
    "#请在此处输入代码\n",
    "\n",
    "# Export the buffered point layer as a shapefile to use in zonal stats \n",
    "plot_buffer_path = 'tree_height/plot_buffer.shp' \n",
    "SJER_plots_poly.to_file(plot_buffer_path) \n"
   ]
  },
  {
   "cell_type": "markdown",
   "metadata": {},
   "source": [
    "<font color=\"black\" size=4>**Extract CHM pixel values for each buffer**</font>"
   ]
  },
  {
   "cell_type": "code",
   "execution_count": null,
   "metadata": {},
   "outputs": [],
   "source": [
    "# Extract zonal stats \n",
    "from rasterstats import zonal_stats, point_query\n",
    "sjer_tree_heights = zonal_stats(plot_buffer_path, \n",
    "                                                      SJER_chm_data, \n",
    "\t\t\t           affine=sjer_chm_meta['transform'], \n",
    "\t\t\t           geojson_out=True, \n",
    "\t\t\t           copy_properties=True, \n",
    "\t\t\t           stats=\"count min mean max median\") \n",
    "\n",
    "# Turn extracted data into a pandas geodataframe \n",
    "SJER_lidar_height_df = gpd.GeoDataFrame.from_features(sjer_tree_heights) \n",
    "SJER_lidar_height_df.head() \n"
   ]
  },
  {
   "cell_type": "code",
   "execution_count": null,
   "metadata": {},
   "outputs": [],
   "source": [
    "fig, ax = plt.subplots(figsize=(10, 5)) \n",
    "ax.bar(SJER_lidar_height_df['Plot_ID'], \n",
    "           SJER_lidar_height_df['max']) \n",
    "ax.set(xlabel=\"Plot ID\", ylabel=\"Max Height\") \n",
    "plt.setp(ax.get_xticklabels(), rotation=45, horizontalalignment='right') \n",
    "plt.show() "
   ]
  },
  {
   "cell_type": "code",
   "execution_count": null,
   "metadata": {},
   "outputs": [],
   "source": [
    "# Extract zonal stats but retain the individual pixel values \n",
    "sjer_tree_heights_ras = zonal_stats(plot_buffer_path, SJER_chm_data, \n",
    "\t\t\t\t    affine=sjer_chm_meta['transform'], \n",
    "\t\t\t\t    geojson_out=True, raster_out=True, \n",
    "\t\t\t\t    copy_properties=True, \n",
    "\t\t\t\t    stats=\"count min mean max median\") \n",
    "# Convert to geodataframe \n",
    "SJER_lidar_height_df_ras = gpd.GeoDataFrame.from_features( sjer_tree_heights_ras) \n",
    "# View subset of the dataframe \n",
    "SJER_lidar_height_df_ras[[\"Plot_ID\", \"count\", \"geometry\", \n",
    "                                           \"mini_raster_affine\", \"mini_raster_array\"]].head() \n"
   ]
  },
  {
   "cell_type": "code",
   "execution_count": null,
   "metadata": {},
   "outputs": [],
   "source": [
    "# Plot a histogram of pixel values for each plot \n",
    "n_columns = 3 \n",
    "n_rows = int(np.ceil(len(SJER_lidar_height_df) / n_columns)) \n",
    "fig, axs = plt.subplots(n_rows, n_columns, figsize=(5*n_columns, 5*n_rows), \n",
    "                                   sharex=True, sharey=True) \n",
    "\n",
    "for (zone, ix), ax in zip(SJER_lidar_height_df.iterrows(), axs.ravel()): \n",
    "     data = SJER_lidar_height_df_ras.iloc[zone]['mini_raster_array'] \n",
    "     null_value = SJER_lidar_height_df_ras.iloc[zone]['mini_raster_nodata'] \n",
    "     data_values = data.data[data.mask] \n",
    "     data_values = data_values[~np.isnan(data_values)] \n",
    "\n",
    "     ax.hist(data_values) \n",
    "     ax.set(title=SJER_lidar_height_df_ras.iloc[zone]['Plot_ID'], xlabel=\"Raster Values\") \n",
    "     plt.tight_layout() "
   ]
  },
  {
   "cell_type": "markdown",
   "metadata": {},
   "source": [
    "<font color=\"black\" size=4>**Open in situ measured tree height file**</font>"
   ]
  },
  {
   "cell_type": "code",
   "execution_count": null,
   "metadata": {},
   "outputs": [],
   "source": [
    "# Import & view in situ (field measured) data \n",
    "path_insitu = r'D:\\M\\地理大数据与云计算\\实验数据\\lesson8\\Lesson8_data\\tree_height\\D17_2013_SJER_vegStr.csv' \n",
    "SJER_insitu_all = pd.read_csv(path_insitu) \n",
    "# View columns in data \n",
    "SJER_insitu_all.columns "
   ]
  },
  {
   "cell_type": "markdown",
   "metadata": {},
   "source": [
    "<font color=\"black\" size=4>**Select just the columns that you will need in your analysis**</font>"
   ]
  },
  {
   "cell_type": "code",
   "execution_count": null,
   "metadata": {},
   "outputs": [],
   "source": [
    "SJER_insitu = SJER_insitu_all[[\"siteid\", \"sitename\", \"plotid\", \"stemheight\", \"scientificname\"]] \n",
    "SJER_insitu.head() "
   ]
  },
  {
   "cell_type": "markdown",
   "metadata": {},
   "source": [
    "<font color=\"black\" size=4>**Summarize tree height data using Pandas**</font>"
   ]
  },
  {
   "cell_type": "code",
   "execution_count": null,
   "metadata": {},
   "outputs": [],
   "source": [
    "insitu_stem_ht = SJER_insitu.groupby('plotid')['stemheight'] .agg( ['mean', 'max'])\n",
    "insitu_stem_ht.head() \n"
   ]
  },
  {
   "cell_type": "markdown",
   "metadata": {},
   "source": [
    "<font color=\"black\" size=4>**Add the word insitu to each column header so it’s very clear which data columns are human measured**</font>"
   ]
  },
  {
   "cell_type": "code",
   "execution_count": null,
   "metadata": {},
   "outputs": [],
   "source": [
    "['insitu_' + col for col in insitu_stem_ht.columns] \n",
    "\n",
    "# Add insitu to each column name to make your data more expressive \n",
    "insitu_stem_ht.columns = ['insitu_' + col for col in insitu_stem_ht.columns] \n",
    "\n",
    "# Reset the index (plotid) \n",
    "insitu_stem_ht = insitu_stem_ht.reset_index() \n",
    "insitu_stem_ht.head() "
   ]
  },
  {
   "cell_type": "markdown",
   "metadata": {},
   "source": [
    "<font color=\"black\" size=4>**Merge in situ data with spatial data.frame**</font>"
   ]
  },
  {
   "cell_type": "code",
   "execution_count": null,
   "metadata": {},
   "outputs": [],
   "source": [
    "# Rename columns so that we know which columns represent lidar values \n",
    "SJER_lidar_height_df = SJER_lidar_height_df.rename( \n",
    "         columns={'max': 'lidar_max', 'mean': 'lidar_mean', 'min':'lidar_min'}) \n",
    "# Join lidar and human measured tree height data \n",
    "SJER_final_height = SJER_lidar_height_df.merge(insitu_stem_ht, \n",
    "                               left_on='Plot_ID', right_on='plotid') \n",
    "\n",
    "# Convert to a dataframe so you can use standard pandas plotting \n",
    "SJER_final_height_df = pd.DataFrame(SJER_final_height) \n",
    "\n",
    "# Export the final data frame as a csv file. \n",
    "SJER_final_height_df.to_csv( \"tree_height/sjer-lidar-insitu-merge.csv\") \n"
   ]
  },
  {
   "cell_type": "markdown",
   "metadata": {},
   "source": [
    "<font color=\"black\" size=4>**Create map of in situ points sized by tree height**</font>"
   ]
  },
  {
   "cell_type": "code",
   "execution_count": null,
   "metadata": {},
   "outputs": [],
   "source": [
    "# Convert the geometry column to contain points \n",
    "SJER_final_height['geometry'] = SJER_final_height.centroid \n",
    "SJER_final_height.head() \n",
    "\n",
    "SJER_final_height['insitu_max'] "
   ]
  },
  {
   "cell_type": "code",
   "execution_count": null,
   "metadata": {},
   "outputs": [],
   "source": [
    "fig, ax = plt.subplots(figsize=(15, 15)) \n",
    "ax.imshow(SJER_chm_data, cmap='Greys', extent=sjer_chm_plt) \n",
    "# Plot centroids of each geometry as points so that you can control their size \n",
    "SJER_final_height.centroid.plot(ax=ax, marker='o',  markersize=SJER_final_height['insitu_max'] * 80)\n",
    "plt.show() \n"
   ]
  },
  {
   "cell_type": "markdown",
   "metadata": {},
   "source": [
    "<font color=\"orange\" size=5>**Quantifying Relationships Between Variables**<br><br></font>\n",
    "<font color=\"black\" size=4>**Plot data (CHM vs Measured)**</font>"
   ]
  },
  {
   "cell_type": "code",
   "execution_count": null,
   "metadata": {},
   "outputs": [],
   "source": [
    "fig, ax = plt.subplots(figsize=(10, 10)) \n",
    "SJER_final_height_df.plot('lidar_max', 'insitu_max', \n",
    "                                          kind='scatter', fontsize=14, s=60, ax=ax) \n",
    "ax.set(xlabel=\"Lidar derived max tree height\", ylabel=\"Measured tree height (m)\") \n",
    "ax.set_title(\"Lidar vs Measured Max Tree Height \\n NEON SJER Field Site\", \n",
    "                  fontsize=30) \n",
    "plt.show() \n"
   ]
  },
  {
   "cell_type": "markdown",
   "metadata": {},
   "source": [
    "<font color=\"black\" size=4>**Add a 1:1 line and making the x and y axis the same**</font>"
   ]
  },
  {
   "cell_type": "code",
   "execution_count": null,
   "metadata": {},
   "outputs": [],
   "source": [
    "fig, ax = plt.subplots(figsize=(10, 10)) \n",
    "SJER_final_height_df.plot('lidar_max', 'insitu_max', \n",
    "                                          kind='scatter', fontsize=14, s=60, ax=ax) \n",
    "\n",
    "ax.set(xlabel=\"Lidar Derived Max Tree Height\", \n",
    "           ylabel=\"Measured Tree Height (m)\") \n",
    "ax.set_title(\"Lidar vs Measured Tree Height - SJER\", fontsize=30) \n",
    "\n",
    "# Add 1:1 line \n",
    "ax.plot((0, 1), (0, 1), transform=ax.transAxes, ls='--', c='k') \n",
    "\n",
    "# Adjust x and y axis limits \n",
    "ax.set(xlim=[0, 30], ylim=[0, 30]) \n",
    "plt.show() \n"
   ]
  },
  {
   "cell_type": "markdown",
   "metadata": {},
   "source": [
    "<font color=\"black\" size=4>**Linear regression**</font>"
   ]
  },
  {
   "cell_type": "code",
   "execution_count": null,
   "metadata": {},
   "outputs": [],
   "source": [
    "from scipy import stats \n",
    "\n",
    "x = SJER_final_height_df.lidar_max \n",
    "y = SJER_final_height_df.insitu_max \n",
    "\n",
    "#请在此处输入代码\n",
    "\n",
    "print(\"slope:\", slope, \"\\nintercept:\", intercept, \"\\nr squared:\", r_value**2) \n"
   ]
  },
  {
   "cell_type": "markdown",
   "metadata": {},
   "source": [
    "<font color=\"black\" size=4>**Plot regression fits compared to 1:1**</font>"
   ]
  },
  {
   "cell_type": "code",
   "execution_count": null,
   "metadata": {},
   "outputs": [],
   "source": [
    "# this plot should be a scatter plot with labels and such \n",
    "fig, ax = plt.subplots(figsize=(10, 10)) \n",
    "csfont = {'fontname':'Myriad Pro'} \n",
    "SJER_final_height_df.plot('lidar_max', 'insitu_max', \n",
    "                                          kind='scatter', fontsize=14, s=60, ax=ax, label = \"Data\") \n",
    "\n",
    "# Add a diagonal line \n",
    "ax.set(xlim=[0, 30], ylim=[0, 30]) \n",
    "x = x.values\n",
    "ax.plot((0, 1), (0, 1), 'y-', transform=ax.transAxes, label = \"1:1 line\") \n",
    "ax.plot(x, intercept + slope*x, 'grey', label='regression fitted line') \n",
    "\n",
    "ax.set(xlabel=\"Lidar derived max tree height\", ylabel=\"Measured tree height (m)\") \n",
    "ax.set_title(\"Lidar vs Measured Tree Height - SJER\", fontsize=30, **csfont) \n",
    "plt.legend()\n",
    "plt.show()\n"
   ]
  },
  {
   "cell_type": "markdown",
   "metadata": {},
   "source": [
    "<font color=\"black\" size=4>**Use Seaborn to plot regression fit**</font>"
   ]
  },
  {
   "cell_type": "code",
   "execution_count": null,
   "metadata": {},
   "outputs": [],
   "source": [
    "fig, ax = plt.subplots(figsize=(10, 10)) \n",
    "\n",
    "csfont = {'fontname':'Myriad Pro'} \n",
    "ax = sns.regplot(x='lidar_max', y='insitu_max', data=SJER_final_height_df) \n",
    "ax.set_title(\"Lidar vs Measured Tree Height - SJER\", fontsize=24) \n",
    "\n",
    "# Add a diagonal line \n",
    "ax.set(xlim=[5, 30], ylim=[5, 30]) \n",
    "ax.plot((0, 1), (0, 1), transform=ax.transAxes, ls='--', c='k') \n",
    "\n",
    "ax.set(xlabel=\"Lidar derived max tree height\",ylabel=\"Measured tree height (m)\")\n",
    "plt.show() \n"
   ]
  }
 ],
 "metadata": {
  "kernelspec": {
   "display_name": "whitebox",
   "language": "python",
   "name": "python3"
  },
  "language_info": {
   "codemirror_mode": {
    "name": "ipython",
    "version": 3
   },
   "file_extension": ".py",
   "mimetype": "text/x-python",
   "name": "python",
   "nbconvert_exporter": "python",
   "pygments_lexer": "ipython3",
   "version": "3.7.12"
  },
  "vscode": {
   "interpreter": {
    "hash": "08a474eab17359b1947e68ba797da92eeec55b17d500b5a2e2fd9202624ced02"
   }
  }
 },
 "nbformat": 4,
 "nbformat_minor": 2
}
